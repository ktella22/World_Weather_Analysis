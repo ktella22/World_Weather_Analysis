{
 "cells": [
  {
   "cell_type": "code",
   "execution_count": 61,
   "id": "f1a62697",
   "metadata": {},
   "outputs": [],
   "source": [
    "# Import the random module.\n",
    "import random"
   ]
  },
  {
   "cell_type": "code",
   "execution_count": 62,
   "id": "0081c8ca",
   "metadata": {},
   "outputs": [
    {
     "data": {
      "text/plain": [
       "-19"
      ]
     },
     "execution_count": 62,
     "metadata": {},
     "output_type": "execute_result"
    }
   ],
   "source": [
    "random.randint(-90,90)"
   ]
  },
  {
   "cell_type": "code",
   "execution_count": 63,
   "id": "695cd68a",
   "metadata": {},
   "outputs": [
    {
     "data": {
      "text/plain": [
       "0.24279448200764964"
      ]
     },
     "execution_count": 63,
     "metadata": {},
     "output_type": "execute_result"
    }
   ],
   "source": [
    "random.random()"
   ]
  },
  {
   "cell_type": "code",
   "execution_count": 64,
   "id": "087032be",
   "metadata": {},
   "outputs": [
    {
     "data": {
      "text/plain": [
       "-22.548494433708967"
      ]
     },
     "execution_count": 64,
     "metadata": {},
     "output_type": "execute_result"
    }
   ],
   "source": [
    "random_number = random.randint(-90,89) + random.random()\n",
    "random_number"
   ]
  },
  {
   "cell_type": "code",
   "execution_count": 65,
   "id": "1c44be13",
   "metadata": {},
   "outputs": [],
   "source": [
    "x= 1\n",
    "latitudes = []\n",
    "while x< 11: \n",
    "    random_lat = random.randint(-90,89)+ random.random()\n",
    "    latitudes.append(random_lat)\n",
    "    x +=1"
   ]
  },
  {
   "cell_type": "code",
   "execution_count": 66,
   "id": "313751fd",
   "metadata": {},
   "outputs": [
    {
     "data": {
      "text/plain": [
       "[79.33415234237748,\n",
       " -8.080453711023685,\n",
       " -4.804130052837602,\n",
       " -44.58284475588049,\n",
       " -20.70029469489888,\n",
       " -50.98602455093329,\n",
       " 18.75737315894174,\n",
       " -10.915284461444852,\n",
       " -77.16916806869632,\n",
       " 78.90174410840676]"
      ]
     },
     "execution_count": 66,
     "metadata": {},
     "output_type": "execute_result"
    }
   ],
   "source": [
    "latitudes"
   ]
  },
  {
   "cell_type": "code",
   "execution_count": 67,
   "id": "6e398862",
   "metadata": {},
   "outputs": [
    {
     "data": {
      "text/plain": [
       "-42"
      ]
     },
     "execution_count": 67,
     "metadata": {},
     "output_type": "execute_result"
    }
   ],
   "source": [
    "random.randrange(-90,90, step=1)"
   ]
  },
  {
   "cell_type": "code",
   "execution_count": 68,
   "id": "d4d95eae",
   "metadata": {},
   "outputs": [
    {
     "data": {
      "text/plain": [
       "-42"
      ]
     },
     "execution_count": 68,
     "metadata": {},
     "output_type": "execute_result"
    }
   ],
   "source": [
    "random.randrange(-90,90,step=3)"
   ]
  },
  {
   "cell_type": "code",
   "execution_count": 69,
   "id": "34e9e661",
   "metadata": {},
   "outputs": [
    {
     "data": {
      "text/plain": [
       "-53.285345924072224"
      ]
     },
     "execution_count": 69,
     "metadata": {},
     "output_type": "execute_result"
    }
   ],
   "source": [
    "random.uniform(-90,90)"
   ]
  },
  {
   "cell_type": "code",
   "execution_count": 70,
   "id": "bf4013c3",
   "metadata": {},
   "outputs": [],
   "source": [
    "# Import the NumPy module\n",
    "import numpy as np"
   ]
  },
  {
   "cell_type": "code",
   "execution_count": 71,
   "id": "1b86a3c1",
   "metadata": {},
   "outputs": [
    {
     "data": {
      "text/plain": [
       "83.47427211494269"
      ]
     },
     "execution_count": 71,
     "metadata": {},
     "output_type": "execute_result"
    }
   ],
   "source": [
    "np.random.uniform(-90.000, 90.000) "
   ]
  },
  {
   "cell_type": "code",
   "execution_count": 72,
   "id": "636f7cc5",
   "metadata": {},
   "outputs": [
    {
     "data": {
      "text/plain": [
       "array([-32.52570377,  15.81732799,  27.85803578,  78.9929236 ,\n",
       "        -2.615681  ,  58.01498024,  68.00576251, -26.89714798,\n",
       "       -18.16516648,  15.230578  , -12.07921053,  15.78257322,\n",
       "        -7.96843484, -59.64981131,  36.95659418,  -8.45803706,\n",
       "       -47.46432188,  75.45631256, -28.39555282,  77.0606925 ,\n",
       "       -65.59358256,  42.31028855, -17.69740449, -12.32268268,\n",
       "       -66.25656447,  86.29218267,  37.13918637,  87.52596867,\n",
       "       -52.91394155, -11.31472761,  48.6184745 , -20.78457887,\n",
       "       -61.1028259 , -68.46439821,  -4.93516758, -42.45231949,\n",
       "        41.77229273,  13.29664957, -41.3516915 ,  82.51183516,\n",
       "        11.42326297, -10.89217521,   3.67707006,  62.64253352,\n",
       "        72.99859962,  47.39841959,  21.85978747,  50.03764059,\n",
       "       -70.14313669,  58.15351509])"
      ]
     },
     "execution_count": 72,
     "metadata": {},
     "output_type": "execute_result"
    }
   ],
   "source": [
    "np.random.uniform(-90, 90, size=50)"
   ]
  },
  {
   "cell_type": "code",
   "execution_count": 73,
   "id": "5998a1ee",
   "metadata": {},
   "outputs": [],
   "source": [
    "# import timeit\n",
    "import timeit"
   ]
  },
  {
   "cell_type": "code",
   "execution_count": 74,
   "id": "43866134",
   "metadata": {},
   "outputs": [
    {
     "name": "stdout",
     "output_type": "stream",
     "text": [
      "25.6 µs ± 3.49 µs per loop (mean ± std. dev. of 7 runs, 10000 loops each)\n"
     ]
    }
   ],
   "source": [
    "%timeit np.random.uniform(-90.000, 90.000, size=1500)"
   ]
  },
  {
   "cell_type": "code",
   "execution_count": 75,
   "id": "52fef98d",
   "metadata": {},
   "outputs": [
    {
     "name": "stdout",
     "output_type": "stream",
     "text": [
      "2.21 ms ± 113 µs per loop (mean ± std. dev. of 7 runs, 100 loops each)\n"
     ]
    }
   ],
   "source": [
    "def latitudes(size):\n",
    "    latitude = []\n",
    "    x = 0\n",
    "    while x < (size):\n",
    "        random_lat = random.randint(-90,90) + random.random()\n",
    "        latitude.append(random_lat)\n",
    "        x +=1\n",
    "    return latitudes\n",
    "# Call the function with 1500\n",
    "%timeit latitudes(1500)"
   ]
  },
  {
   "cell_type": "code",
   "execution_count": null,
   "id": "d9716c37",
   "metadata": {},
   "outputs": [],
   "source": []
  }
 ],
 "metadata": {
  "kernelspec": {
   "display_name": "PythonData",
   "language": "python",
   "name": "pythondata"
  },
  "language_info": {
   "codemirror_mode": {
    "name": "ipython",
    "version": 3
   },
   "file_extension": ".py",
   "mimetype": "text/x-python",
   "name": "python",
   "nbconvert_exporter": "python",
   "pygments_lexer": "ipython3",
   "version": "3.8.8"
  }
 },
 "nbformat": 4,
 "nbformat_minor": 5
}
